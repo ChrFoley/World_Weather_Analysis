{
 "cells": [
  {
   "cell_type": "code",
   "execution_count": 1,
   "metadata": {},
   "outputs": [],
   "source": [
    "# Import the dependencies.\n",
    "import pandas as pd\n",
    "import gmaps\n",
    "import requests\n",
    "# Import the API key.\n",
    "from config import g_key"
   ]
  },
  {
   "cell_type": "code",
   "execution_count": 2,
   "metadata": {},
   "outputs": [],
   "source": [
    "# Configure gmaps to use your Google API key.\n",
    "gmaps.configure(api_key=g_key)"
   ]
  },
  {
   "cell_type": "code",
   "execution_count": 3,
   "metadata": {},
   "outputs": [
    {
     "data": {
      "text/html": [
       "<div>\n",
       "<style scoped>\n",
       "    .dataframe tbody tr th:only-of-type {\n",
       "        vertical-align: middle;\n",
       "    }\n",
       "\n",
       "    .dataframe tbody tr th {\n",
       "        vertical-align: top;\n",
       "    }\n",
       "\n",
       "    .dataframe thead th {\n",
       "        text-align: right;\n",
       "    }\n",
       "</style>\n",
       "<table border=\"1\" class=\"dataframe\">\n",
       "  <thead>\n",
       "    <tr style=\"text-align: right;\">\n",
       "      <th></th>\n",
       "      <th>City_ID</th>\n",
       "      <th>City</th>\n",
       "      <th>Country</th>\n",
       "      <th>Max Temp</th>\n",
       "      <th>Current Description</th>\n",
       "      <th>Lat</th>\n",
       "      <th>Lng</th>\n",
       "      <th>Hotel Name</th>\n",
       "    </tr>\n",
       "  </thead>\n",
       "  <tbody>\n",
       "    <tr>\n",
       "      <th>0</th>\n",
       "      <td>0</td>\n",
       "      <td>Chumphon</td>\n",
       "      <td>TH</td>\n",
       "      <td>78.80</td>\n",
       "      <td>broken clouds</td>\n",
       "      <td>10.33</td>\n",
       "      <td>98.83</td>\n",
       "      <td>บ้านอิงน้ำ โฮมสเตย์</td>\n",
       "    </tr>\n",
       "    <tr>\n",
       "      <th>1</th>\n",
       "      <td>6</td>\n",
       "      <td>Baherden</td>\n",
       "      <td>TM</td>\n",
       "      <td>84.72</td>\n",
       "      <td>clear sky</td>\n",
       "      <td>38.44</td>\n",
       "      <td>57.43</td>\n",
       "      <td>NaN</td>\n",
       "    </tr>\n",
       "    <tr>\n",
       "      <th>2</th>\n",
       "      <td>7</td>\n",
       "      <td>Sao Filipe</td>\n",
       "      <td>CV</td>\n",
       "      <td>77.92</td>\n",
       "      <td>broken clouds</td>\n",
       "      <td>14.90</td>\n",
       "      <td>-24.50</td>\n",
       "      <td>Tortuga B&amp;B</td>\n",
       "    </tr>\n",
       "    <tr>\n",
       "      <th>3</th>\n",
       "      <td>8</td>\n",
       "      <td>Hamilton</td>\n",
       "      <td>US</td>\n",
       "      <td>82.00</td>\n",
       "      <td>few clouds</td>\n",
       "      <td>39.18</td>\n",
       "      <td>-84.53</td>\n",
       "      <td>Six Acres Bed &amp; Breakfast</td>\n",
       "    </tr>\n",
       "    <tr>\n",
       "      <th>4</th>\n",
       "      <td>11</td>\n",
       "      <td>Atuona</td>\n",
       "      <td>PF</td>\n",
       "      <td>79.95</td>\n",
       "      <td>clear sky</td>\n",
       "      <td>-9.80</td>\n",
       "      <td>-139.03</td>\n",
       "      <td>Villa Enata</td>\n",
       "    </tr>\n",
       "  </tbody>\n",
       "</table>\n",
       "</div>"
      ],
      "text/plain": [
       "   City_ID        City Country  Max Temp Current Description    Lat     Lng  \\\n",
       "0        0    Chumphon      TH     78.80       broken clouds  10.33   98.83   \n",
       "1        6    Baherden      TM     84.72           clear sky  38.44   57.43   \n",
       "2        7  Sao Filipe      CV     77.92       broken clouds  14.90  -24.50   \n",
       "3        8    Hamilton      US     82.00          few clouds  39.18  -84.53   \n",
       "4       11      Atuona      PF     79.95           clear sky  -9.80 -139.03   \n",
       "\n",
       "                  Hotel Name  \n",
       "0        บ้านอิงน้ำ โฮมสเตย์  \n",
       "1                        NaN  \n",
       "2                Tortuga B&B  \n",
       "3  Six Acres Bed & Breakfast  \n",
       "4                Villa Enata  "
      ]
     },
     "execution_count": 3,
     "metadata": {},
     "output_type": "execute_result"
    }
   ],
   "source": [
    "iten_df = pd.read_csv(\"WeatherPy_vacation.csv\")\n",
    "iten_df.head()"
   ]
  },
  {
   "cell_type": "code",
   "execution_count": 4,
   "metadata": {},
   "outputs": [],
   "source": [
    "# build the dataframe for the selected cities\n",
    "# four cities in New England chosen from the map layer in part2\n",
    "\n",
    "city_one = iten_df.loc[iten_df[\"City\"] == \"Westport\"]\n",
    "city_two = iten_df.loc[iten_df[\"City\"] == \"Plainview\"]\n",
    "city_three = iten_df.loc[iten_df[\"City\"] == \"Fairview\"]\n",
    "city_four = iten_df.loc[iten_df[\"City\"] == \"Mayo\"] "
   ]
  },
  {
   "cell_type": "code",
   "execution_count": 5,
   "metadata": {},
   "outputs": [],
   "source": [
    "# retrieve lat/lon for each city\n",
    "begining = city_one[\"Lat\"].values[0], city_one[\"Lng\"].values[0]\n",
    "sone = city_two[\"Lat\"].values[0], city_two[\"Lng\"].values[0]\n",
    "stwo = city_three[\"Lat\"].values[0], city_three[\"Lng\"].values[0]\n",
    "end = city_four[\"Lat\"].values[0], city_three[\"Lng\"].values[0]"
   ]
  },
  {
   "cell_type": "code",
   "execution_count": 6,
   "metadata": {},
   "outputs": [
    {
     "data": {
      "application/vnd.jupyter.widget-view+json": {
       "model_id": "95d7d421b24e4d35a07d6dcaddcc44b7",
       "version_major": 2,
       "version_minor": 0
      },
      "text/plain": [
       "Figure(layout=FigureLayout(height='420px'))"
      ]
     },
     "metadata": {},
     "output_type": "display_data"
    }
   ],
   "source": [
    "# Build the route\n",
    "fig = gmaps.figure()\n",
    "iten_df = gmaps.directions_layer(\n",
    "        begining, end, waypoints=[sone, stwo],\n",
    "        travel_mode='DRIVING')\n",
    "fig.add_layer(iten_df)\n",
    "fig\n",
    "\n",
    "# Could not get this feature to work. Lat longs are accurate..."
   ]
  },
  {
   "cell_type": "code",
   "execution_count": 7,
   "metadata": {},
   "outputs": [
    {
     "data": {
      "text/html": [
       "<div>\n",
       "<style scoped>\n",
       "    .dataframe tbody tr th:only-of-type {\n",
       "        vertical-align: middle;\n",
       "    }\n",
       "\n",
       "    .dataframe tbody tr th {\n",
       "        vertical-align: top;\n",
       "    }\n",
       "\n",
       "    .dataframe thead th {\n",
       "        text-align: right;\n",
       "    }\n",
       "</style>\n",
       "<table border=\"1\" class=\"dataframe\">\n",
       "  <thead>\n",
       "    <tr style=\"text-align: right;\">\n",
       "      <th></th>\n",
       "      <th>City_ID</th>\n",
       "      <th>City</th>\n",
       "      <th>Country</th>\n",
       "      <th>Max Temp</th>\n",
       "      <th>Current Description</th>\n",
       "      <th>Lat</th>\n",
       "      <th>Lng</th>\n",
       "      <th>Hotel Name</th>\n",
       "    </tr>\n",
       "  </thead>\n",
       "  <tbody>\n",
       "    <tr>\n",
       "      <th>77</th>\n",
       "      <td>263</td>\n",
       "      <td>Westport</td>\n",
       "      <td>US</td>\n",
       "      <td>75.20</td>\n",
       "      <td>few clouds</td>\n",
       "      <td>41.14</td>\n",
       "      <td>-73.36</td>\n",
       "      <td>The Westport Inn</td>\n",
       "    </tr>\n",
       "    <tr>\n",
       "      <th>161</th>\n",
       "      <td>533</td>\n",
       "      <td>Plainview</td>\n",
       "      <td>US</td>\n",
       "      <td>80.01</td>\n",
       "      <td>few clouds</td>\n",
       "      <td>40.78</td>\n",
       "      <td>-73.47</td>\n",
       "      <td>Holiday Inn Plainview-Long Island</td>\n",
       "    </tr>\n",
       "    <tr>\n",
       "      <th>66</th>\n",
       "      <td>238</td>\n",
       "      <td>Fairview</td>\n",
       "      <td>US</td>\n",
       "      <td>84.20</td>\n",
       "      <td>overcast clouds</td>\n",
       "      <td>40.81</td>\n",
       "      <td>-74.00</td>\n",
       "      <td>Homewood Suites by Hilton Edgewater-NYC Area</td>\n",
       "    </tr>\n",
       "    <tr>\n",
       "      <th>169</th>\n",
       "      <td>556</td>\n",
       "      <td>Mayo</td>\n",
       "      <td>US</td>\n",
       "      <td>80.60</td>\n",
       "      <td>few clouds</td>\n",
       "      <td>38.89</td>\n",
       "      <td>-76.51</td>\n",
       "      <td>Resorts Resource Group International</td>\n",
       "    </tr>\n",
       "  </tbody>\n",
       "</table>\n",
       "</div>"
      ],
      "text/plain": [
       "     City_ID       City Country  Max Temp Current Description    Lat    Lng  \\\n",
       "77       263   Westport      US     75.20          few clouds  41.14 -73.36   \n",
       "161      533  Plainview      US     80.01          few clouds  40.78 -73.47   \n",
       "66       238   Fairview      US     84.20     overcast clouds  40.81 -74.00   \n",
       "169      556       Mayo      US     80.60          few clouds  38.89 -76.51   \n",
       "\n",
       "                                       Hotel Name  \n",
       "77                               The Westport Inn  \n",
       "161             Holiday Inn Plainview-Long Island  \n",
       "66   Homewood Suites by Hilton Edgewater-NYC Area  \n",
       "169          Resorts Resource Group International  "
      ]
     },
     "execution_count": 7,
     "metadata": {},
     "output_type": "execute_result"
    }
   ],
   "source": [
    "final_iten_df = pd.concat([city_one, city_two, city_three, city_four])\n",
    "final_iten_df.head()"
   ]
  },
  {
   "cell_type": "code",
   "execution_count": 8,
   "metadata": {},
   "outputs": [],
   "source": [
    "info_box_template = \"\"\"\n",
    "<dl>\n",
    "<dt>Hotel Name</dt><dd>{Hotel Name}</dd>\n",
    "<dt>City</dt><dd>{City}</dd>\n",
    "<dt>Country</dt><dd>{Country}</dd>\n",
    "<dt>Current Weather</dt><dd>{Current Description} \n",
    "<dt>Max Temp</dt><dd>{Max Temp} °F</dd>\n",
    "</dl>\n",
    "\"\"\"\n",
    "# Store the DataFrame Row.\n",
    "hotel_info = [info_box_template.format(**row) for index, row in final_iten_df.iterrows()]\n",
    "locations = final_iten_df[[\"Lat\", \"Lng\"]]"
   ]
  },
  {
   "cell_type": "code",
   "execution_count": 42,
   "metadata": {},
   "outputs": [
    {
     "data": {
      "application/vnd.jupyter.widget-view+json": {
       "model_id": "8e87e7043c1d44279f7d231c848a2557",
       "version_major": 2,
       "version_minor": 0
      },
      "text/plain": [
       "Figure(layout=FigureLayout(height='420px'))"
      ]
     },
     "metadata": {},
     "output_type": "display_data"
    }
   ],
   "source": [
    "# Add a heatmap of temperature for the vacation spots and a pop-up marker for each city.\n",
    "fig = gmaps.figure(center=(41.0, -74.0), zoom_level=6)\n",
    "marker_layer = gmaps.marker_layer(locations, info_box_content=hotel_info)\n",
    "fig.add_layer(marker_layer)\n",
    "\n",
    "# Call the figure to plot the data.\n",
    "fig"
   ]
  },
  {
   "cell_type": "code",
   "execution_count": 48,
   "metadata": {},
   "outputs": [
    {
     "name": "stdout",
     "output_type": "stream",
     "text": [
      "that was kinda hard thank goodness for refactoring and documentation\n"
     ]
    }
   ],
   "source": [
    "print(\"that was kinda hard thank goodness for refactoring and documentation\")"
   ]
  },
  {
   "cell_type": "code",
   "execution_count": null,
   "metadata": {},
   "outputs": [],
   "source": []
  }
 ],
 "metadata": {
  "kernelspec": {
   "display_name": "PythonData",
   "language": "python",
   "name": "pythondata"
  },
  "language_info": {
   "codemirror_mode": {
    "name": "ipython",
    "version": 3
   },
   "file_extension": ".py",
   "mimetype": "text/x-python",
   "name": "python",
   "nbconvert_exporter": "python",
   "pygments_lexer": "ipython3",
   "version": "3.7.7"
  }
 },
 "nbformat": 4,
 "nbformat_minor": 4
}
